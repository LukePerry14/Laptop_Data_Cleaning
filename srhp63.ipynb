{
 "cells": [
  {
   "cell_type": "markdown",
   "metadata": {},
   "source": [
    "Imports and Worksheet Creation"
   ]
  },
  {
   "cell_type": "code",
   "execution_count": null,
   "metadata": {},
   "outputs": [],
   "source": [
    "import xlsxwriter\n",
    "\n",
    "# Open the existing file for reading\n",
    "existing_file = 'amazon_laptop_2023.xlsx'\n",
    "workbook = xlsxwriter.Workbook('amazon_laptop_2023_cleaned.xlsx')\n",
    "worksheet = workbook.add_worksheet()\n",
    "existing_workbook = xlsxwriter.load_workbook(existing_file)\n",
    "existing_worksheet = existing_workbook.active\n",
    "\n",
    "# Copy the contents from the existing worksheet to the new worksheet\n",
    "for row_num, row in enumerate(existing_worksheet.iter_rows(values_only=True), 1):\n",
    "    for col_num, value in enumerate(row, 1):\n",
    "        worksheet.write(row_num - 1, col_num - 1, value)\n",
    "\n",
    "# Close the new workbook\n",
    "workbook.close()\n",
    "\n",
    "print(f\"Contents from '{existing_file}' copied to 'amazon_laptop_2023_cleaned.xlsx'.\")\n"
   ]
  },
  {
   "cell_type": "markdown",
   "metadata": {},
   "source": [
    "Cleaning processes"
   ]
  },
  {
   "cell_type": "code",
   "execution_count": null,
   "metadata": {},
   "outputs": [],
   "source": [
    "# Copy the contents from the existing worksheet to the new worksheet\n",
    "for row_num, row in enumerate(existing_worksheet.iter_rows(values_only=True), 1):\n",
    "    for col_num, value in enumerate(row, 1):\n",
    "        worksheet.write(row_num - 1, col_num - 1, value)"
   ]
  }
 ],
 "metadata": {
  "language_info": {
   "name": "python"
  }
 },
 "nbformat": 4,
 "nbformat_minor": 2
}
